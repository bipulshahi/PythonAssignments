{
  "nbformat": 4,
  "nbformat_minor": 0,
  "metadata": {
    "colab": {
      "provenance": []
    },
    "kernelspec": {
      "name": "python3",
      "display_name": "Python 3"
    },
    "language_info": {
      "name": "python"
    }
  },
  "cells": [
    {
      "cell_type": "markdown",
      "source": [
        "****\n",
        "filter()\n",
        "****"
      ],
      "metadata": {
        "id": "ACln7vE-nG2J"
      }
    },
    {
      "cell_type": "code",
      "execution_count": 10,
      "metadata": {
        "colab": {
          "base_uri": "https://localhost:8080/"
        },
        "id": "XlTKrpVjib-J",
        "outputId": "e6a94c6b-15a0-4073-e8c2-d43ed3015033"
      },
      "outputs": [
        {
          "output_type": "stream",
          "name": "stdout",
          "text": [
            "[6, 2, 8, 6, 2, 4, 8]\n"
          ]
        }
      ],
      "source": [
        "numbers = [3,6,3,2,8,5,6,1,2,4,7,8]\n",
        "\n",
        "def is_even(num):\n",
        "  return num % 2 == 0\n",
        "\n",
        "even_numbers = []\n",
        "for num in numbers:\n",
        "  if (is_even(num)):\n",
        "    even_numbers.append(num)\n",
        "\n",
        "print(even_numbers)"
      ]
    },
    {
      "cell_type": "code",
      "source": [
        "def is_even(num):\n",
        "  return num % 2 == 0\n",
        "\n",
        "list(filter(is_even , numbers))"
      ],
      "metadata": {
        "colab": {
          "base_uri": "https://localhost:8080/"
        },
        "id": "OSr2A9g3i1Yo",
        "outputId": "a0b33dac-8b08-4c36-fcb2-f7576c5d61e9"
      },
      "execution_count": 11,
      "outputs": [
        {
          "output_type": "execute_result",
          "data": {
            "text/plain": [
              "[6, 2, 8, 6, 2, 4, 8]"
            ]
          },
          "metadata": {},
          "execution_count": 11
        }
      ]
    },
    {
      "cell_type": "code",
      "source": [
        "list(filter(lambda n : n%2 == 0 , numbers))"
      ],
      "metadata": {
        "colab": {
          "base_uri": "https://localhost:8080/"
        },
        "id": "PzoSwzH7jb-M",
        "outputId": "606cd91d-ea19-4f22-977b-ce1f8bab5e45"
      },
      "execution_count": 9,
      "outputs": [
        {
          "output_type": "execute_result",
          "data": {
            "text/plain": [
              "[6, 2, 8, 6, 2, 4, 8]"
            ]
          },
          "metadata": {},
          "execution_count": 9
        }
      ]
    },
    {
      "cell_type": "code",
      "source": [
        "words = [\"apple\" , \"grape\" , \"orange\" , \"kiwi\" , \"strawberry\" , \"banana\"]\n",
        "\n",
        "#Use filter to filter words with number of characters equal or less then 5..\n",
        "\n",
        "def is_short_word(text):\n",
        "  return len(text) <= 5\n",
        "\n",
        "is_short_word(\"grape\")"
      ],
      "metadata": {
        "colab": {
          "base_uri": "https://localhost:8080/"
        },
        "id": "GmwokNZCjkFg",
        "outputId": "261700f2-98f6-4acd-f4f6-8d70a8133a0c"
      },
      "execution_count": 12,
      "outputs": [
        {
          "output_type": "execute_result",
          "data": {
            "text/plain": [
              "True"
            ]
          },
          "metadata": {},
          "execution_count": 12
        }
      ]
    },
    {
      "cell_type": "code",
      "source": [
        "def is_short_word(text):\n",
        "  return len(text) <= 5\n",
        "\n",
        "list(filter(is_short_word , words))"
      ],
      "metadata": {
        "colab": {
          "base_uri": "https://localhost:8080/"
        },
        "id": "mNoFRku9k7KU",
        "outputId": "fe06ac98-699e-420f-e244-5e59a91715c4"
      },
      "execution_count": 13,
      "outputs": [
        {
          "output_type": "execute_result",
          "data": {
            "text/plain": [
              "['apple', 'grape', 'kiwi']"
            ]
          },
          "metadata": {},
          "execution_count": 13
        }
      ]
    },
    {
      "cell_type": "code",
      "source": [
        "numbers = [-2 , -1 , 0 , 1 , 2 , 3, 4, -5 , 6,  -7]\n",
        "\n",
        "#Use filter to filter positive numbers\n",
        "\n",
        "list(filter(lambda x : x >= 0, numbers))"
      ],
      "metadata": {
        "colab": {
          "base_uri": "https://localhost:8080/"
        },
        "id": "iOXLLGzPlobV",
        "outputId": "51f18a80-5150-4e04-b65a-3378544a3ec9"
      },
      "execution_count": 14,
      "outputs": [
        {
          "output_type": "execute_result",
          "data": {
            "text/plain": [
              "[0, 1, 2, 3, 4, 6]"
            ]
          },
          "metadata": {},
          "execution_count": 14
        }
      ]
    },
    {
      "cell_type": "markdown",
      "source": [
        "****\n",
        "any()\n",
        "****"
      ],
      "metadata": {
        "id": "z3EGiVWFnJu4"
      }
    },
    {
      "cell_type": "code",
      "source": [
        "any((False,False,False,False,True))"
      ],
      "metadata": {
        "colab": {
          "base_uri": "https://localhost:8080/"
        },
        "id": "v9-5nK2Dnqtj",
        "outputId": "45a8536d-005c-4090-bfdf-aceab9540207"
      },
      "execution_count": 18,
      "outputs": [
        {
          "output_type": "execute_result",
          "data": {
            "text/plain": [
              "True"
            ]
          },
          "metadata": {},
          "execution_count": 18
        }
      ]
    },
    {
      "cell_type": "code",
      "source": [
        "any((False,False,False,False,False))"
      ],
      "metadata": {
        "colab": {
          "base_uri": "https://localhost:8080/"
        },
        "id": "al19zCAMnzRS",
        "outputId": "779b16a5-5a16-4236-d2a6-6e4552026385"
      },
      "execution_count": 19,
      "outputs": [
        {
          "output_type": "execute_result",
          "data": {
            "text/plain": [
              "False"
            ]
          },
          "metadata": {},
          "execution_count": 19
        }
      ]
    },
    {
      "cell_type": "code",
      "source": [
        "numbers = [1,3,5,8,9]\n",
        "\n",
        "#find if there is any even number exist or not\n",
        "\n",
        "for num in numbers:\n",
        "  print(num % 2 == 0)"
      ],
      "metadata": {
        "colab": {
          "base_uri": "https://localhost:8080/"
        },
        "id": "Mltax8_bmo7O",
        "outputId": "af32b5ab-6b65-4096-fc08-0a4584740cfe"
      },
      "execution_count": 16,
      "outputs": [
        {
          "output_type": "stream",
          "name": "stdout",
          "text": [
            "False\n",
            "False\n",
            "False\n",
            "True\n",
            "False\n"
          ]
        }
      ]
    },
    {
      "cell_type": "code",
      "source": [
        "numbers = [1,3,5,8,9]\n",
        "\n",
        "#find if there is any even number exist or not\n",
        "\n",
        "any([num % 2 == 0 for num in numbers])"
      ],
      "metadata": {
        "colab": {
          "base_uri": "https://localhost:8080/"
        },
        "id": "NSMlK816nnL9",
        "outputId": "dcb8d955-eb4d-4787-ebca-aa29206d1073"
      },
      "execution_count": 21,
      "outputs": [
        {
          "output_type": "execute_result",
          "data": {
            "text/plain": [
              "True"
            ]
          },
          "metadata": {},
          "execution_count": 21
        }
      ]
    },
    {
      "cell_type": "code",
      "source": [
        "numbers = [1,3,5,9]\n",
        "\n",
        "#find if there is any even number exist or not\n",
        "\n",
        "any([num % 2 == 0 for num in numbers])"
      ],
      "metadata": {
        "colab": {
          "base_uri": "https://localhost:8080/"
        },
        "id": "GLeqqTkvoEER",
        "outputId": "5db85f0b-dabb-431d-9828-697e7a7d80ee"
      },
      "execution_count": 22,
      "outputs": [
        {
          "output_type": "execute_result",
          "data": {
            "text/plain": [
              "False"
            ]
          },
          "metadata": {},
          "execution_count": 22
        }
      ]
    },
    {
      "cell_type": "code",
      "source": [
        "values = [-1,0,4,5,3,2]\n",
        "\n",
        "#Check if any value in the given list is negative\n",
        "\n",
        "any([val < 0 for val in values])"
      ],
      "metadata": {
        "colab": {
          "base_uri": "https://localhost:8080/"
        },
        "id": "IAMr51AToP9e",
        "outputId": "620b398f-f506-4831-a695-7cbce08350ea"
      },
      "execution_count": 25,
      "outputs": [
        {
          "output_type": "execute_result",
          "data": {
            "text/plain": [
              "True"
            ]
          },
          "metadata": {},
          "execution_count": 25
        }
      ]
    },
    {
      "cell_type": "markdown",
      "source": [
        "****\n",
        "all()\n",
        "****"
      ],
      "metadata": {
        "id": "uwVTU_Kpov2L"
      }
    },
    {
      "cell_type": "code",
      "source": [
        "all((True,True,True,False,True,True))"
      ],
      "metadata": {
        "colab": {
          "base_uri": "https://localhost:8080/"
        },
        "id": "A2hBRquTonW1",
        "outputId": "92974ebb-dd3c-4e6c-b03a-c8c9a7de6dda"
      },
      "execution_count": 26,
      "outputs": [
        {
          "output_type": "execute_result",
          "data": {
            "text/plain": [
              "False"
            ]
          },
          "metadata": {},
          "execution_count": 26
        }
      ]
    },
    {
      "cell_type": "code",
      "source": [
        "all((True,True,True,True,True))"
      ],
      "metadata": {
        "colab": {
          "base_uri": "https://localhost:8080/"
        },
        "id": "3l1HegpBo2Ik",
        "outputId": "a4e39fa6-3383-45c3-decf-0057f4110c15"
      },
      "execution_count": 27,
      "outputs": [
        {
          "output_type": "execute_result",
          "data": {
            "text/plain": [
              "True"
            ]
          },
          "metadata": {},
          "execution_count": 27
        }
      ]
    },
    {
      "cell_type": "code",
      "source": [
        "values = [2,4,6,8]\n",
        "\n",
        "#use all() to check if all elements in the list are greater than zero or not..\n",
        "\n",
        "all([val > 0 for val in values])"
      ],
      "metadata": {
        "colab": {
          "base_uri": "https://localhost:8080/"
        },
        "id": "19q4uw8Po463",
        "outputId": "c75fd09c-805b-4a70-8638-61b620c21cb3"
      },
      "execution_count": 29,
      "outputs": [
        {
          "output_type": "execute_result",
          "data": {
            "text/plain": [
              "True"
            ]
          },
          "metadata": {},
          "execution_count": 29
        }
      ]
    },
    {
      "cell_type": "code",
      "source": [
        "words = [\"Hello\" , \"world\" , \" \" , \"Python\"]"
      ],
      "metadata": {
        "id": "tJ5dBlMxprhd"
      },
      "execution_count": 30,
      "outputs": []
    },
    {
      "cell_type": "code",
      "source": [
        "#check if any word in the list have 1st character in upper case\n",
        "\n",
        "any([word[0].isupper() for word in words])"
      ],
      "metadata": {
        "colab": {
          "base_uri": "https://localhost:8080/"
        },
        "id": "SUnRU5BGp_Rv",
        "outputId": "4cbd59cd-9d71-4e21-897e-bbd1f294ad16"
      },
      "execution_count": 33,
      "outputs": [
        {
          "output_type": "execute_result",
          "data": {
            "text/plain": [
              "True"
            ]
          },
          "metadata": {},
          "execution_count": 33
        }
      ]
    },
    {
      "cell_type": "code",
      "source": [
        "#check if all word in the list have 1st character in upper case\n",
        "all([word[0].isupper() for word in words])"
      ],
      "metadata": {
        "colab": {
          "base_uri": "https://localhost:8080/"
        },
        "id": "idFtRvHEqJ74",
        "outputId": "cb4c9f05-18e8-483e-fb55-34422bd82e4a"
      },
      "execution_count": 34,
      "outputs": [
        {
          "output_type": "execute_result",
          "data": {
            "text/plain": [
              "False"
            ]
          },
          "metadata": {},
          "execution_count": 34
        }
      ]
    },
    {
      "cell_type": "code",
      "source": [],
      "metadata": {
        "id": "VXBnFFcPrYe4"
      },
      "execution_count": null,
      "outputs": []
    }
  ]
}